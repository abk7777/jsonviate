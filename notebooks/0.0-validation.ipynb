{
 "cells": [
  {
   "cell_type": "code",
   "execution_count": 1,
   "metadata": {},
   "outputs": [],
   "source": [
    "import sys\n",
    "\n",
    "sys.path.append(\"../jsonviate\")\n",
    "from pathlib import Path\n",
    "import json\n",
    "from jsonviate import JsonToWeaviate"
   ]
  },
  {
   "cell_type": "code",
   "execution_count": 2,
   "metadata": {},
   "outputs": [],
   "source": [
    "data_dir = Path(\"../___data/\")"
   ]
  },
  {
   "cell_type": "code",
   "execution_count": 3,
   "metadata": {},
   "outputs": [],
   "source": [
    "# load data\n",
    "with open(data_dir / \"awsdocs\" / \"input\" / \"repositories.json\") as f:\n",
    "    data = json.load(f)"
   ]
  },
  {
   "cell_type": "code",
   "execution_count": 4,
   "metadata": {},
   "outputs": [
    {
     "name": "stdout",
     "output_type": "stream",
     "text": [
      "{'topics': \"<class 'list'>\", 'owner': \"<class 'dict'>\", 'permissions': \"<class 'dict'>\", 'license': \"<class 'dict'>\"}\n"
     ]
    }
   ],
   "source": [
    "# get keys that are lists or dicts as models\n",
    "keys = [\n",
    "    json.loads(key)\n",
    "    for key in list(\n",
    "        set([json.dumps({k: str(type(v))}) for item in data for k, v in item.items()])\n",
    "    )\n",
    "]\n",
    "models = {\n",
    "    k: v\n",
    "    for d in keys\n",
    "    for k, v in d.items()\n",
    "    if v in [\"<class 'list'>\", \"<class 'dict'>\"]\n",
    "}\n",
    "print(models)"
   ]
  },
  {
   "cell_type": "code",
   "execution_count": 5,
   "metadata": {},
   "outputs": [],
   "source": [
    "class_mapping = [\n",
    "    {\n",
    "        \"class\": \"Repository\",\n",
    "        \"path\": None,\n",
    "        \"substitutions\": {\n",
    "            \"id\": \"id\",\n",
    "            \"full_name\": \"full_name\",\n",
    "            \"html_url\": \"html_url\",\n",
    "            \"description\": \"description\",\n",
    "            \"clone_url\": \"clone_url\",\n",
    "            \"stargazers_count\": \"stargazers_count\",\n",
    "            \"open_issues_count\": \"open_issues_count\",\n",
    "            \"forks_count\": \"forks_count\",\n",
    "            \"default_branch\": \"default_branch\",\n",
    "        },\n",
    "    },\n",
    "    {\n",
    "        \"class\": \"Owner\",\n",
    "        \"path\": None,\n",
    "        \"substitutions\": {\"id\": \"owner.id\", \"login\": \"owner.login\", \"url\": \"owner.url\", \"type\": \"owner.type\"},\n",
    "    },\n",
    "    {\n",
    "        \"class\": \"License\",\n",
    "        \"path\": None,\n",
    "        \"substitutions\": {\n",
    "            \"key\": \"license.key\",\n",
    "            \"name\": \"license.name\",\n",
    "            \"spdx_id\": \"license.spdx_id\",\n",
    "            \"url\": \"license.url\",\n",
    "            \"node_id\": \"license.node_id\",\n",
    "        },\n",
    "    },\n",
    "]"
   ]
  },
  {
   "attachments": {},
   "cell_type": "markdown",
   "metadata": {},
   "source": [
    "## Reshape data"
   ]
  },
  {
   "cell_type": "code",
   "execution_count": 6,
   "metadata": {},
   "outputs": [],
   "source": [
    "mapper = JsonToWeaviate(mappings=class_mapping)\n",
    "reshaped = JsonToWeaviate.from_json(mapper, data[0])"
   ]
  },
  {
   "cell_type": "code",
   "execution_count": 10,
   "metadata": {},
   "outputs": [
    {
     "data": {
      "text/plain": [
       "[{'id': '53b5a296-f1e6-47cb-ac5a-4381eadddd60',\n",
       "  'class': 'Repository',\n",
       "  'data': {'id': 39527199,\n",
       "   'full_name': 'awsdocs/elastic-beanstalk-samples',\n",
       "   'html_url': 'https://github.com/awsdocs/elastic-beanstalk-samples',\n",
       "   'description': 'This repository contains code and configuration samples (e.g. .ebextensions) for AWS Elastic Beanstalk.',\n",
       "   'clone_url': 'https://github.com/awsdocs/elastic-beanstalk-samples.git',\n",
       "   'stargazers_count': 1118,\n",
       "   'open_issues_count': 16,\n",
       "   'forks_count': 886,\n",
       "   'default_branch': 'main'}}]"
      ]
     },
     "execution_count": 10,
     "metadata": {},
     "output_type": "execute_result"
    }
   ],
   "source": [
    "reshaped.classes.Repository.data_objects\n"
   ]
  },
  {
   "cell_type": "code",
   "execution_count": null,
   "metadata": {},
   "outputs": [],
   "source": []
  }
 ],
 "metadata": {
  "kernelspec": {
   "display_name": "jsonviate-zlgJ4MD5-py3.11",
   "language": "python",
   "name": "python3"
  },
  "language_info": {
   "codemirror_mode": {
    "name": "ipython",
    "version": 3
   },
   "file_extension": ".py",
   "mimetype": "text/x-python",
   "name": "python",
   "nbconvert_exporter": "python",
   "pygments_lexer": "ipython3",
   "version": "3.11.0"
  },
  "orig_nbformat": 4,
  "vscode": {
   "interpreter": {
    "hash": "9ca2e6ebc8de380a35ac8d1bba76b25a3c78a06f359a6f16fb4dbf2be89f54bc"
   }
  }
 },
 "nbformat": 4,
 "nbformat_minor": 2
}
